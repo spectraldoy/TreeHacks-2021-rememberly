{
 "cells": [
  {
   "cell_type": "code",
   "execution_count": null,
   "metadata": {},
   "outputs": [],
   "source": [
    "#hide\n",
    "from your_lib.core import *"
   ]
  },
  {
   "cell_type": "markdown",
   "metadata": {},
   "source": [
    "# Rememberly\n",
    "\n",
    "> Converting a cognitive science model of text memory into useful software"
   ]
  },
  {
   "cell_type": "markdown",
   "metadata": {},
   "source": [
    "We can imagine an educator has assigned students to read a certain text - maybe from the web, maybe a textbook chapter, maybe an academic paper. The educator is trying to decide which concepts from the paper is important for review; they don't have the resources to review it all. One factor of course is importance: they'll want to prioritize important ideas! But maybe they can't even cover every important idea. Another big factor is how much help students might need to really grasp and memorize the concepts. That's where a computational model of human memory for text might come in.\n",
    "\n",
    "Rememberly takes such a model to do just that. We the landscape model of reading comprehension integrated with a fine-tuned model of semantic textual similarity -  We relate the model with a dynamic interface that provides helpful visualizations, annotations, and recommendations to identify and address likely gaps "
   ]
  },
  {
   "cell_type": "markdown",
   "metadata": {},
   "source": [
    "## Install"
   ]
  },
  {
   "cell_type": "markdown",
   "metadata": {},
   "source": [
    "`pip install your_project_name`"
   ]
  },
  {
   "cell_type": "markdown",
   "metadata": {},
   "source": [
    "## How to use"
   ]
  },
  {
   "cell_type": "markdown",
   "metadata": {},
   "source": [
    "Fill me in please! Don't forget code examples:"
   ]
  },
  {
   "cell_type": "code",
   "execution_count": null,
   "metadata": {},
   "outputs": [
    {
     "data": {
      "text/plain": [
       "2"
      ]
     },
     "execution_count": null,
     "metadata": {},
     "output_type": "execute_result"
    }
   ],
   "source": [
    "1+1"
   ]
  },
  {
   "cell_type": "code",
   "execution_count": null,
   "metadata": {},
   "outputs": [],
   "source": []
  }
 ],
 "metadata": {
  "jupytext": {
   "formats": "ipynb,py:percent"
  },
  "kernelspec": {
   "display_name": "Python 3",
   "language": "python",
   "name": "python3"
  }
 },
 "nbformat": 4,
 "nbformat_minor": 2
}