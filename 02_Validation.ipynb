{
 "cells": [],
 "metadata": {
  "jupytext": {
   "cell_metadata_filter": "-all",
   "formats": "py:percent,ipynb"
  }
 },
 "nbformat": 4,
 "nbformat_minor": 5
}
